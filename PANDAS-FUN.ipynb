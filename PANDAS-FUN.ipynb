{
 "cells": [
  {
   "cell_type": "markdown",
   "metadata": {},
   "source": [
    "# Fun with pandas\n",
    "\n",
    "Examples of using pandas to filter and analyze the data in the wrangled Twitter profiles and tweets data\n"
   ]
  },
  {
   "cell_type": "code",
   "execution_count": 48,
   "metadata": {
    "collapsed": false
   },
   "outputs": [],
   "source": [
    "from os.path import join\n",
    "import pandas as pd\n",
    "WRANGLED_DIR = join('data', 'wrangled')\n",
    "dfprofiles = pd.read_csv(join(WRANGLED_DIR, 'congress-twitter-profiles.csv'))\n",
    "dftweets = pd.read_csv(join(WRANGLED_DIR, 'congress-tweets.csv'))\n",
    "# later, we'll join this to the other dataframes\n",
    "dfmembers = pd.read_csv(join('data', 'legislators-basic-info.csv'))"
   ]
  },
  {
   "cell_type": "code",
   "execution_count": 34,
   "metadata": {
    "collapsed": false
   },
   "outputs": [
    {
     "data": {
      "text/html": [
       "<div>\n",
       "<table border=\"1\" class=\"dataframe\">\n",
       "  <thead>\n",
       "    <tr style=\"text-align: right;\">\n",
       "      <th></th>\n",
       "      <th>id</th>\n",
       "      <th>screen_name</th>\n",
       "      <th>name</th>\n",
       "      <th>created_at</th>\n",
       "      <th>description</th>\n",
       "      <th>location</th>\n",
       "      <th>url</th>\n",
       "      <th>statuses_count</th>\n",
       "      <th>friends_count</th>\n",
       "      <th>followers_count</th>\n",
       "      <th>verified</th>\n",
       "      <th>profile_image_url</th>\n",
       "      <th>bioguide_id</th>\n",
       "      <th>days_since_creation</th>\n",
       "      <th>days_since_last_tweet</th>\n",
       "      <th>tweets_count</th>\n",
       "      <th>tweets_per_day</th>\n",
       "      <th>recent_tweets_per_day</th>\n",
       "    </tr>\n",
       "  </thead>\n",
       "  <tbody>\n",
       "    <tr>\n",
       "      <th>0</th>\n",
       "      <td>3026622545</td>\n",
       "      <td>RepAmata</td>\n",
       "      <td>Congresswoman Amata</td>\n",
       "      <td>Mon Feb 09 16:00:36 +0000 2015</td>\n",
       "      <td>Congresswoman Representing American Samoa</td>\n",
       "      <td>Washington, D.C.</td>\n",
       "      <td>http://t.co/L7B6x0yzTS</td>\n",
       "      <td>1</td>\n",
       "      <td>0</td>\n",
       "      <td>382</td>\n",
       "      <td>True</td>\n",
       "      <td>http://pbs.twimg.com/profile_images/5648165541...</td>\n",
       "      <td>R000600</td>\n",
       "      <td>449</td>\n",
       "      <td>449</td>\n",
       "      <td>1</td>\n",
       "      <td>0.00</td>\n",
       "      <td>0.1</td>\n",
       "    </tr>\n",
       "    <tr>\n",
       "      <th>1</th>\n",
       "      <td>2964222544</td>\n",
       "      <td>RepHardy</td>\n",
       "      <td>Rep. Cresent Hardy</td>\n",
       "      <td>Tue Jan 06 14:08:31 +0000 2015</td>\n",
       "      <td>Proudly representing Nevada's 4th Congressiona...</td>\n",
       "      <td>Nevada, USA</td>\n",
       "      <td>http://t.co/RPDLpARNAe</td>\n",
       "      <td>871</td>\n",
       "      <td>403</td>\n",
       "      <td>2255</td>\n",
       "      <td>True</td>\n",
       "      <td>http://pbs.twimg.com/profile_images/5525152827...</td>\n",
       "      <td>H001070</td>\n",
       "      <td>484</td>\n",
       "      <td>0</td>\n",
       "      <td>871</td>\n",
       "      <td>1.80</td>\n",
       "      <td>27.8</td>\n",
       "    </tr>\n",
       "    <tr>\n",
       "      <th>2</th>\n",
       "      <td>234128524</td>\n",
       "      <td>RepToddYoung</td>\n",
       "      <td>Rep. Todd Young</td>\n",
       "      <td>Tue Jan 04 22:35:16 +0000 2011</td>\n",
       "      <td>I serve the people of #IN09 in Congress. Conta...</td>\n",
       "      <td>Indiana's 9th District</td>\n",
       "      <td>http://t.co/zPVchT7xlK</td>\n",
       "      <td>2713</td>\n",
       "      <td>476</td>\n",
       "      <td>9578</td>\n",
       "      <td>True</td>\n",
       "      <td>http://pbs.twimg.com/profile_images/7148332431...</td>\n",
       "      <td>Y000064</td>\n",
       "      <td>1946</td>\n",
       "      <td>5</td>\n",
       "      <td>2713</td>\n",
       "      <td>1.39</td>\n",
       "      <td>34.1</td>\n",
       "    </tr>\n",
       "    <tr>\n",
       "      <th>3</th>\n",
       "      <td>2856787757</td>\n",
       "      <td>SenJoniErnst</td>\n",
       "      <td>Joni Ernst</td>\n",
       "      <td>Sun Nov 02 13:32:54 +0000 2014</td>\n",
       "      <td>Follow for news and updates from the Office of...</td>\n",
       "      <td>Iowa</td>\n",
       "      <td>http://t.co/zUYK5PQEOd</td>\n",
       "      <td>858</td>\n",
       "      <td>48</td>\n",
       "      <td>10832</td>\n",
       "      <td>True</td>\n",
       "      <td>http://pbs.twimg.com/profile_images/5608591094...</td>\n",
       "      <td>E000295</td>\n",
       "      <td>549</td>\n",
       "      <td>0</td>\n",
       "      <td>858</td>\n",
       "      <td>1.56</td>\n",
       "      <td>70.9</td>\n",
       "    </tr>\n",
       "    <tr>\n",
       "      <th>4</th>\n",
       "      <td>2964174789</td>\n",
       "      <td>SenThomTillis</td>\n",
       "      <td>Senator Thom Tillis</td>\n",
       "      <td>Tue Jan 06 14:22:18 +0000 2015</td>\n",
       "      <td>Official Twitter account of North Carolina Sen...</td>\n",
       "      <td>Washington, D.C.</td>\n",
       "      <td>http://t.co/mLVkKjLyOt</td>\n",
       "      <td>1248</td>\n",
       "      <td>2332</td>\n",
       "      <td>8451</td>\n",
       "      <td>True</td>\n",
       "      <td>http://pbs.twimg.com/profile_images/7174832643...</td>\n",
       "      <td>T000476</td>\n",
       "      <td>484</td>\n",
       "      <td>0</td>\n",
       "      <td>1248</td>\n",
       "      <td>2.58</td>\n",
       "      <td>105.4</td>\n",
       "    </tr>\n",
       "  </tbody>\n",
       "</table>\n",
       "</div>"
      ],
      "text/plain": [
       "           id    screen_name                 name  \\\n",
       "0  3026622545       RepAmata  Congresswoman Amata   \n",
       "1  2964222544       RepHardy   Rep. Cresent Hardy   \n",
       "2   234128524   RepToddYoung      Rep. Todd Young   \n",
       "3  2856787757   SenJoniErnst           Joni Ernst   \n",
       "4  2964174789  SenThomTillis  Senator Thom Tillis   \n",
       "\n",
       "                       created_at  \\\n",
       "0  Mon Feb 09 16:00:36 +0000 2015   \n",
       "1  Tue Jan 06 14:08:31 +0000 2015   \n",
       "2  Tue Jan 04 22:35:16 +0000 2011   \n",
       "3  Sun Nov 02 13:32:54 +0000 2014   \n",
       "4  Tue Jan 06 14:22:18 +0000 2015   \n",
       "\n",
       "                                         description                location  \\\n",
       "0          Congresswoman Representing American Samoa        Washington, D.C.   \n",
       "1  Proudly representing Nevada's 4th Congressiona...             Nevada, USA   \n",
       "2  I serve the people of #IN09 in Congress. Conta...  Indiana's 9th District   \n",
       "3  Follow for news and updates from the Office of...                   Iowa    \n",
       "4  Official Twitter account of North Carolina Sen...       Washington, D.C.    \n",
       "\n",
       "                      url  statuses_count  friends_count  followers_count  \\\n",
       "0  http://t.co/L7B6x0yzTS               1              0              382   \n",
       "1  http://t.co/RPDLpARNAe             871            403             2255   \n",
       "2  http://t.co/zPVchT7xlK            2713            476             9578   \n",
       "3  http://t.co/zUYK5PQEOd             858             48            10832   \n",
       "4  http://t.co/mLVkKjLyOt            1248           2332             8451   \n",
       "\n",
       "  verified                                  profile_image_url bioguide_id  \\\n",
       "0     True  http://pbs.twimg.com/profile_images/5648165541...     R000600   \n",
       "1     True  http://pbs.twimg.com/profile_images/5525152827...     H001070   \n",
       "2     True  http://pbs.twimg.com/profile_images/7148332431...     Y000064   \n",
       "3     True  http://pbs.twimg.com/profile_images/5608591094...     E000295   \n",
       "4     True  http://pbs.twimg.com/profile_images/7174832643...     T000476   \n",
       "\n",
       "   days_since_creation  days_since_last_tweet  tweets_count  tweets_per_day  \\\n",
       "0                  449                    449             1            0.00   \n",
       "1                  484                      0           871            1.80   \n",
       "2                 1946                      5          2713            1.39   \n",
       "3                  549                      0           858            1.56   \n",
       "4                  484                      0          1248            2.58   \n",
       "\n",
       "   recent_tweets_per_day  \n",
       "0                    0.1  \n",
       "1                   27.8  \n",
       "2                   34.1  \n",
       "3                   70.9  \n",
       "4                  105.4  "
      ]
     },
     "execution_count": 34,
     "metadata": {},
     "output_type": "execute_result"
    }
   ],
   "source": [
    "dfprofiles.head()"
   ]
  },
  {
   "cell_type": "code",
   "execution_count": 35,
   "metadata": {
    "collapsed": false
   },
   "outputs": [
    {
     "data": {
      "text/html": [
       "<div>\n",
       "<table border=\"1\" class=\"dataframe\">\n",
       "  <thead>\n",
       "    <tr style=\"text-align: right;\">\n",
       "      <th></th>\n",
       "      <th>id</th>\n",
       "      <th>text</th>\n",
       "      <th>created_at</th>\n",
       "      <th>favorite_count</th>\n",
       "      <th>retweet_count</th>\n",
       "      <th>in_reply_to_screen_name</th>\n",
       "      <th>in_reply_to_status_id</th>\n",
       "      <th>in_reply_to_user_id_str</th>\n",
       "      <th>is_quote_status</th>\n",
       "      <th>bioguide_id</th>\n",
       "      <th>user_id</th>\n",
       "      <th>user_screen_name</th>\n",
       "      <th>source_name</th>\n",
       "      <th>retweeted_status_id</th>\n",
       "      <th>retweeted_status_user_id</th>\n",
       "    </tr>\n",
       "  </thead>\n",
       "  <tbody>\n",
       "    <tr>\n",
       "      <th>0</th>\n",
       "      <td>564820451508383746</td>\n",
       "      <td>Hello everyone, I'm excited to join Twitter to...</td>\n",
       "      <td>Mon Feb 09 16:17:44 +0000 2015</td>\n",
       "      <td>25</td>\n",
       "      <td>16</td>\n",
       "      <td>NaN</td>\n",
       "      <td>NaN</td>\n",
       "      <td>NaN</td>\n",
       "      <td>False</td>\n",
       "      <td>R000600</td>\n",
       "      <td>3026622545</td>\n",
       "      <td>RepAmata</td>\n",
       "      <td>Twitter Web Client</td>\n",
       "      <td>NaN</td>\n",
       "      <td>NaN</td>\n",
       "    </tr>\n",
       "    <tr>\n",
       "      <th>1</th>\n",
       "      <td>727613422553157632</td>\n",
       "      <td>Congrats to students who participated in the 2...</td>\n",
       "      <td>Tue May 03 21:38:52 +0000 2016</td>\n",
       "      <td>1</td>\n",
       "      <td>1</td>\n",
       "      <td>NaN</td>\n",
       "      <td>NaN</td>\n",
       "      <td>NaN</td>\n",
       "      <td>False</td>\n",
       "      <td>H001070</td>\n",
       "      <td>2964222544</td>\n",
       "      <td>RepHardy</td>\n",
       "      <td>Twitter Web Client</td>\n",
       "      <td>NaN</td>\n",
       "      <td>NaN</td>\n",
       "    </tr>\n",
       "    <tr>\n",
       "      <th>2</th>\n",
       "      <td>727609591475916802</td>\n",
       "      <td>Congrats to Casey Korder from Parson Elementar...</td>\n",
       "      <td>Tue May 03 21:23:39 +0000 2016</td>\n",
       "      <td>1</td>\n",
       "      <td>1</td>\n",
       "      <td>NaN</td>\n",
       "      <td>NaN</td>\n",
       "      <td>NaN</td>\n",
       "      <td>False</td>\n",
       "      <td>H001070</td>\n",
       "      <td>2964222544</td>\n",
       "      <td>RepHardy</td>\n",
       "      <td>Twitter Web Client</td>\n",
       "      <td>NaN</td>\n",
       "      <td>NaN</td>\n",
       "    </tr>\n",
       "    <tr>\n",
       "      <th>3</th>\n",
       "      <td>727590935303958529</td>\n",
       "      <td>Happy #NationalTeacherDay to all of Nevada’s i...</td>\n",
       "      <td>Tue May 03 20:09:31 +0000 2016</td>\n",
       "      <td>0</td>\n",
       "      <td>0</td>\n",
       "      <td>NaN</td>\n",
       "      <td>NaN</td>\n",
       "      <td>NaN</td>\n",
       "      <td>False</td>\n",
       "      <td>H001070</td>\n",
       "      <td>2964222544</td>\n",
       "      <td>RepHardy</td>\n",
       "      <td>Twitter Web Client</td>\n",
       "      <td>NaN</td>\n",
       "      <td>NaN</td>\n",
       "    </tr>\n",
       "    <tr>\n",
       "      <th>4</th>\n",
       "      <td>727280635082096640</td>\n",
       "      <td>For National Small Biz Week, I’m hosting a wor...</td>\n",
       "      <td>Mon May 02 23:36:30 +0000 2016</td>\n",
       "      <td>0</td>\n",
       "      <td>2</td>\n",
       "      <td>NaN</td>\n",
       "      <td>NaN</td>\n",
       "      <td>NaN</td>\n",
       "      <td>False</td>\n",
       "      <td>H001070</td>\n",
       "      <td>2964222544</td>\n",
       "      <td>RepHardy</td>\n",
       "      <td>Twitter Web Client</td>\n",
       "      <td>NaN</td>\n",
       "      <td>NaN</td>\n",
       "    </tr>\n",
       "  </tbody>\n",
       "</table>\n",
       "</div>"
      ],
      "text/plain": [
       "                   id                                               text  \\\n",
       "0  564820451508383746  Hello everyone, I'm excited to join Twitter to...   \n",
       "1  727613422553157632  Congrats to students who participated in the 2...   \n",
       "2  727609591475916802  Congrats to Casey Korder from Parson Elementar...   \n",
       "3  727590935303958529  Happy #NationalTeacherDay to all of Nevada’s i...   \n",
       "4  727280635082096640  For National Small Biz Week, I’m hosting a wor...   \n",
       "\n",
       "                       created_at  favorite_count  retweet_count  \\\n",
       "0  Mon Feb 09 16:17:44 +0000 2015              25             16   \n",
       "1  Tue May 03 21:38:52 +0000 2016               1              1   \n",
       "2  Tue May 03 21:23:39 +0000 2016               1              1   \n",
       "3  Tue May 03 20:09:31 +0000 2016               0              0   \n",
       "4  Mon May 02 23:36:30 +0000 2016               0              2   \n",
       "\n",
       "  in_reply_to_screen_name  in_reply_to_status_id  in_reply_to_user_id_str  \\\n",
       "0                     NaN                    NaN                      NaN   \n",
       "1                     NaN                    NaN                      NaN   \n",
       "2                     NaN                    NaN                      NaN   \n",
       "3                     NaN                    NaN                      NaN   \n",
       "4                     NaN                    NaN                      NaN   \n",
       "\n",
       "  is_quote_status bioguide_id     user_id user_screen_name  \\\n",
       "0           False     R000600  3026622545         RepAmata   \n",
       "1           False     H001070  2964222544         RepHardy   \n",
       "2           False     H001070  2964222544         RepHardy   \n",
       "3           False     H001070  2964222544         RepHardy   \n",
       "4           False     H001070  2964222544         RepHardy   \n",
       "\n",
       "          source_name  retweeted_status_id  retweeted_status_user_id  \n",
       "0  Twitter Web Client                  NaN                       NaN  \n",
       "1  Twitter Web Client                  NaN                       NaN  \n",
       "2  Twitter Web Client                  NaN                       NaN  \n",
       "3  Twitter Web Client                  NaN                       NaN  \n",
       "4  Twitter Web Client                  NaN                       NaN  "
      ]
     },
     "execution_count": 35,
     "metadata": {},
     "output_type": "execute_result"
    }
   ],
   "source": [
    "dftweets.head()"
   ]
  },
  {
   "cell_type": "markdown",
   "metadata": {},
   "source": [
    "# Just counting"
   ]
  },
  {
   "cell_type": "markdown",
   "metadata": {},
   "source": [
    "## Dataframe quick counts"
   ]
  },
  {
   "cell_type": "code",
   "execution_count": 36,
   "metadata": {
    "collapsed": false
   },
   "outputs": [
    {
     "data": {
      "text/plain": [
       "102434"
      ]
     },
     "execution_count": 36,
     "metadata": {},
     "output_type": "execute_result"
    }
   ],
   "source": [
    "# How many tweets total?\n",
    "len(dftweets)"
   ]
  },
  {
   "cell_type": "code",
   "execution_count": 37,
   "metadata": {
    "collapsed": false
   },
   "outputs": [
    {
     "data": {
      "text/plain": [
       "31"
      ]
     },
     "execution_count": 37,
     "metadata": {},
     "output_type": "execute_result"
    }
   ],
   "source": [
    "# How many Twitter users have at least 50000 followers?\n",
    "len(dfprofiles[dfprofiles.followers_count >= 50000])"
   ]
  },
  {
   "cell_type": "code",
   "execution_count": 53,
   "metadata": {
    "collapsed": false
   },
   "outputs": [
    {
     "data": {
      "text/plain": [
       "R    301\n",
       "D    236\n",
       "I      3\n",
       "Name: party, dtype: int64"
      ]
     },
     "execution_count": 53,
     "metadata": {},
     "output_type": "execute_result"
    }
   ],
   "source": [
    "# How many legislators, by party?\n",
    "dfmembers['party'].value_counts()"
   ]
  },
  {
   "cell_type": "markdown",
   "metadata": {},
   "source": [
    "# Aggregations\n",
    "\n",
    "(This is a nice tutorial on aggregations: [http://www.shanelynn.ie/summarising-aggregation-and-grouping-data-in-python-pandas/](http://www.shanelynn.ie/summarising-aggregation-and-grouping-data-in-python-pandas/))\n",
    "\n",
    "Pandas has a whole host of functions for reducing a column of values to a scalar (single value) -- `sum()`, for example, will return the sum of all the numbers for each column in a dataframe. To get the total number of Twitter accounts that follow Congressional accounts:"
   ]
  },
  {
   "cell_type": "code",
   "execution_count": null,
   "metadata": {
    "collapsed": true
   },
   "outputs": [],
   "source": [
    "dfprofiles['followers_count'].sum()"
   ]
  },
  {
   "cell_type": "markdown",
   "metadata": {},
   "source": [
    "# Filtering\n",
    "\n",
    "Examples of how to subset a dataframe. \n",
    "\n",
    "For the most part, remember that dataframe operations are _non-mutating_ -- they create a copy of the dataframe, but don't alter the data in the dataframe that you applied a function upon.\n"
   ]
  },
  {
   "cell_type": "markdown",
   "metadata": {},
   "source": [
    "## Getting a subset of rows using a conditional query\n",
    "\n",
    "How to find which Twitter users have tweeted more than 2000 times in their lifetimes, but have not tweeted in the last 60 days?"
   ]
  },
  {
   "cell_type": "markdown",
   "metadata": {},
   "source": [
    "There are several ways to think of this, such as doing two filters:\n",
    "\n",
    "1. The twitter users who have more than 2000 tweets\n",
    "2. Of the users in Step 1, filter for users with days_since_last_tweet > 60"
   ]
  },
  {
   "cell_type": "code",
   "execution_count": 38,
   "metadata": {
    "collapsed": false
   },
   "outputs": [
    {
     "data": {
      "text/plain": [
       "2"
      ]
     },
     "execution_count": 38,
     "metadata": {},
     "output_type": "execute_result"
    }
   ],
   "source": [
    "# assign this subset of twitter users to the xdf variable\n",
    "xdf = dfprofiles[dfprofiles.tweets_count > 2000]\n",
    "\n",
    "# new subset\n",
    "ydf = xdf[xdf.days_since_last_tweet > 60]\n",
    "\n",
    "len(ydf)"
   ]
  },
  {
   "cell_type": "markdown",
   "metadata": {},
   "source": [
    "Or, in a single query, with two conditions -- note the weird, non-Python-convention of using `&` instead of `and` to join the conditions. That only works in pandas-land....so yes, you kind-of have to be mindful of a whole different set of rules when working with pandas. So keep sharp with your debugging."
   ]
  },
  {
   "cell_type": "code",
   "execution_count": 39,
   "metadata": {
    "collapsed": false
   },
   "outputs": [
    {
     "data": {
      "text/plain": [
       "2"
      ]
     },
     "execution_count": 39,
     "metadata": {},
     "output_type": "execute_result"
    }
   ],
   "source": [
    "ydf = dfprofiles[(dfprofiles.tweets_count > 2000) & (dfprofiles.days_since_last_tweet > 60)]\n",
    "\n",
    "len(ydf)"
   ]
  },
  {
   "cell_type": "markdown",
   "metadata": {},
   "source": [
    "## Getting a subset of columns\n",
    "\n",
    "Who are those `2` congressmembers in `ydf`? Let's just print it out:"
   ]
  },
  {
   "cell_type": "code",
   "execution_count": 40,
   "metadata": {
    "collapsed": false
   },
   "outputs": [
    {
     "data": {
      "text/html": [
       "<div>\n",
       "<table border=\"1\" class=\"dataframe\">\n",
       "  <thead>\n",
       "    <tr style=\"text-align: right;\">\n",
       "      <th></th>\n",
       "      <th>id</th>\n",
       "      <th>screen_name</th>\n",
       "      <th>name</th>\n",
       "      <th>created_at</th>\n",
       "      <th>description</th>\n",
       "      <th>location</th>\n",
       "      <th>url</th>\n",
       "      <th>statuses_count</th>\n",
       "      <th>friends_count</th>\n",
       "      <th>followers_count</th>\n",
       "      <th>verified</th>\n",
       "      <th>profile_image_url</th>\n",
       "      <th>bioguide_id</th>\n",
       "      <th>days_since_creation</th>\n",
       "      <th>days_since_last_tweet</th>\n",
       "      <th>tweets_count</th>\n",
       "      <th>tweets_per_day</th>\n",
       "      <th>recent_tweets_per_day</th>\n",
       "    </tr>\n",
       "  </thead>\n",
       "  <tbody>\n",
       "    <tr>\n",
       "      <th>244</th>\n",
       "      <td>14845376</td>\n",
       "      <td>GrahamBlog</td>\n",
       "      <td>Lindsey Graham</td>\n",
       "      <td>Tue May 20 13:57:21 +0000 2008</td>\n",
       "      <td>Twitter feed for U.S. Senator Lindsey Graham o...</td>\n",
       "      <td>Washington, DC</td>\n",
       "      <td>http://t.co/x7LZALizg6</td>\n",
       "      <td>4243</td>\n",
       "      <td>2151</td>\n",
       "      <td>102048</td>\n",
       "      <td>True</td>\n",
       "      <td>http://pbs.twimg.com/profile_images/2167513251...</td>\n",
       "      <td>G000359</td>\n",
       "      <td>2906</td>\n",
       "      <td>75</td>\n",
       "      <td>4243</td>\n",
       "      <td>1.46</td>\n",
       "      <td>26.9</td>\n",
       "    </tr>\n",
       "    <tr>\n",
       "      <th>281</th>\n",
       "      <td>435500714</td>\n",
       "      <td>SenCoonsOffice</td>\n",
       "      <td>Office of Sen. Coons</td>\n",
       "      <td>Tue Dec 13 04:02:30 +0000 2011</td>\n",
       "      <td>News releases, blog posts, new videos, transcr...</td>\n",
       "      <td>Delaware &amp; Washington</td>\n",
       "      <td>http://t.co/YhxmCF9DHF</td>\n",
       "      <td>2201</td>\n",
       "      <td>107</td>\n",
       "      <td>4230</td>\n",
       "      <td>True</td>\n",
       "      <td>http://pbs.twimg.com/profile_images/1690317750...</td>\n",
       "      <td>C001088</td>\n",
       "      <td>1604</td>\n",
       "      <td>91</td>\n",
       "      <td>2201</td>\n",
       "      <td>1.37</td>\n",
       "      <td>9.4</td>\n",
       "    </tr>\n",
       "  </tbody>\n",
       "</table>\n",
       "</div>"
      ],
      "text/plain": [
       "            id     screen_name                  name  \\\n",
       "244   14845376      GrahamBlog        Lindsey Graham   \n",
       "281  435500714  SenCoonsOffice  Office of Sen. Coons   \n",
       "\n",
       "                         created_at  \\\n",
       "244  Tue May 20 13:57:21 +0000 2008   \n",
       "281  Tue Dec 13 04:02:30 +0000 2011   \n",
       "\n",
       "                                           description               location  \\\n",
       "244  Twitter feed for U.S. Senator Lindsey Graham o...         Washington, DC   \n",
       "281  News releases, blog posts, new videos, transcr...  Delaware & Washington   \n",
       "\n",
       "                        url  statuses_count  friends_count  followers_count  \\\n",
       "244  http://t.co/x7LZALizg6            4243           2151           102048   \n",
       "281  http://t.co/YhxmCF9DHF            2201            107             4230   \n",
       "\n",
       "    verified                                  profile_image_url bioguide_id  \\\n",
       "244     True  http://pbs.twimg.com/profile_images/2167513251...     G000359   \n",
       "281     True  http://pbs.twimg.com/profile_images/1690317750...     C001088   \n",
       "\n",
       "     days_since_creation  days_since_last_tweet  tweets_count  tweets_per_day  \\\n",
       "244                 2906                     75          4243            1.46   \n",
       "281                 1604                     91          2201            1.37   \n",
       "\n",
       "     recent_tweets_per_day  \n",
       "244                   26.9  \n",
       "281                    9.4  "
      ]
     },
     "execution_count": 40,
     "metadata": {},
     "output_type": "execute_result"
    }
   ],
   "source": [
    "ydf"
   ]
  },
  {
   "cell_type": "markdown",
   "metadata": {},
   "source": [
    "Too many columns. Let's just pick the most relevant ones. The syntax for picking a subset of columns from a dataframe is to provide a list of column names:"
   ]
  },
  {
   "cell_type": "code",
   "execution_count": 44,
   "metadata": {
    "collapsed": false
   },
   "outputs": [
    {
     "data": {
      "text/html": [
       "<div>\n",
       "<table border=\"1\" class=\"dataframe\">\n",
       "  <thead>\n",
       "    <tr style=\"text-align: right;\">\n",
       "      <th></th>\n",
       "      <th>screen_name</th>\n",
       "      <th>days_since_last_tweet</th>\n",
       "      <th>tweets_count</th>\n",
       "      <th>recent_tweets_per_day</th>\n",
       "    </tr>\n",
       "  </thead>\n",
       "  <tbody>\n",
       "    <tr>\n",
       "      <th>244</th>\n",
       "      <td>GrahamBlog</td>\n",
       "      <td>75</td>\n",
       "      <td>4243</td>\n",
       "      <td>26.9</td>\n",
       "    </tr>\n",
       "    <tr>\n",
       "      <th>281</th>\n",
       "      <td>SenCoonsOffice</td>\n",
       "      <td>91</td>\n",
       "      <td>2201</td>\n",
       "      <td>9.4</td>\n",
       "    </tr>\n",
       "  </tbody>\n",
       "</table>\n",
       "</div>"
      ],
      "text/plain": [
       "        screen_name  days_since_last_tweet  tweets_count  \\\n",
       "244      GrahamBlog                     75          4243   \n",
       "281  SenCoonsOffice                     91          2201   \n",
       "\n",
       "     recent_tweets_per_day  \n",
       "244                   26.9  \n",
       "281                    9.4  "
      ]
     },
     "execution_count": 44,
     "metadata": {},
     "output_type": "execute_result"
    }
   ],
   "source": [
    "ydf[['screen_name', 'days_since_last_tweet', 'tweets_count', 'recent_tweets_per_day']]"
   ]
  },
  {
   "cell_type": "markdown",
   "metadata": {},
   "source": [
    "# Ranking and sorting tweets"
   ]
  },
  {
   "cell_type": "markdown",
   "metadata": {},
   "source": [
    "## Most retweeted tweets\n",
    "\n",
    "Of the recent tweets collected per Congressmember, which were the 5 most retweeted tweets?"
   ]
  },
  {
   "cell_type": "code",
   "execution_count": 45,
   "metadata": {
    "collapsed": false
   },
   "outputs": [
    {
     "data": {
      "text/html": [
       "<div>\n",
       "<table border=\"1\" class=\"dataframe\">\n",
       "  <thead>\n",
       "    <tr style=\"text-align: right;\">\n",
       "      <th></th>\n",
       "      <th>id</th>\n",
       "      <th>user_screen_name</th>\n",
       "      <th>retweet_count</th>\n",
       "      <th>text</th>\n",
       "    </tr>\n",
       "  </thead>\n",
       "  <tbody>\n",
       "    <tr>\n",
       "      <th>52064</th>\n",
       "      <td>644266781834477569</td>\n",
       "      <td>RepAnnaEshoo</td>\n",
       "      <td>420587</td>\n",
       "      <td>RT @POTUS: Cool clock, Ahmed. Want to bring it...</td>\n",
       "    </tr>\n",
       "    <tr>\n",
       "      <th>82355</th>\n",
       "      <td>644212922936393728</td>\n",
       "      <td>RepHuffman</td>\n",
       "      <td>420587</td>\n",
       "      <td>RT @POTUS: Cool clock, Ahmed. Want to bring it...</td>\n",
       "    </tr>\n",
       "    <tr>\n",
       "      <th>71215</th>\n",
       "      <td>690957272051220483</td>\n",
       "      <td>RepTomRice</td>\n",
       "      <td>187117</td>\n",
       "      <td>RT @NationalZoo: Tian Tian woke up this mornin...</td>\n",
       "    </tr>\n",
       "    <tr>\n",
       "      <th>41035</th>\n",
       "      <td>690965124144717824</td>\n",
       "      <td>RepHuizenga</td>\n",
       "      <td>187117</td>\n",
       "      <td>RT @NationalZoo: Tian Tian woke up this mornin...</td>\n",
       "    </tr>\n",
       "    <tr>\n",
       "      <th>80145</th>\n",
       "      <td>621312647942832128</td>\n",
       "      <td>RepDannyDavis</td>\n",
       "      <td>102786</td>\n",
       "      <td>RT @POTUS: We could eliminate tuition at every...</td>\n",
       "    </tr>\n",
       "  </tbody>\n",
       "</table>\n",
       "</div>"
      ],
      "text/plain": [
       "                       id user_screen_name  retweet_count  \\\n",
       "52064  644266781834477569     RepAnnaEshoo         420587   \n",
       "82355  644212922936393728       RepHuffman         420587   \n",
       "71215  690957272051220483       RepTomRice         187117   \n",
       "41035  690965124144717824      RepHuizenga         187117   \n",
       "80145  621312647942832128    RepDannyDavis         102786   \n",
       "\n",
       "                                                    text  \n",
       "52064  RT @POTUS: Cool clock, Ahmed. Want to bring it...  \n",
       "82355  RT @POTUS: Cool clock, Ahmed. Want to bring it...  \n",
       "71215  RT @NationalZoo: Tian Tian woke up this mornin...  \n",
       "41035  RT @NationalZoo: Tian Tian woke up this mornin...  \n",
       "80145  RT @POTUS: We could eliminate tuition at every...  "
      ]
     },
     "execution_count": 45,
     "metadata": {},
     "output_type": "execute_result"
    }
   ],
   "source": [
    "top5 = dftweets.sort_values('retweet_count', ascending=False).head(5)\n",
    "top5[['id', 'user_screen_name', 'retweet_count', 'text']]\n"
   ]
  },
  {
   "cell_type": "markdown",
   "metadata": {},
   "source": [
    "As it turns out, those retweets appear to be retweets of more popular retweets:\n",
    "\n",
    "The tweet at:\n",
    "\n",
    "[https://twitter.com/RepAnnaEshoo/status/644266781834477569](https://twitter.com/RepAnnaEshoo/status/644266781834477569)\n",
    "\n",
    "Resolves to this [POTUS tweet](https://twitter.com/POTUS/status/644193755814342656):\n",
    "\n",
    "<a href=\"https://twitter.com/POTUS/status/644193755814342656\"><img src=\"assets/images/potus-tweet-644193755814342656.jpg\" alt=\"potus-tweet-644193755814342656.jpg\"></a>"
   ]
  },
  {
   "cell_type": "markdown",
   "metadata": {},
   "source": [
    "Sidenote: you can confirm the redirect using Python and requests:\n",
    "\n",
    "```py\n",
    "import requests\n",
    "xurl = 'https://twitter.com/RepAnnaEshoo/status/644266781834477569'\n",
    "resp = requests.get(xurl)\n",
    "resp.url\n",
    "# 'https://twitter.com/POTUS/status/644193755814342656'\n",
    "```"
   ]
  },
  {
   "cell_type": "markdown",
   "metadata": {},
   "source": [
    "\n",
    "## Most retweeted original tweets \n",
    "\n",
    "So let's restrict our query to tweets that were _not_ retweets. Another way to specify this query is to filter for tweets in which `retweeted_status_id` is _empty_:\n",
    "\n",
    "Using [pandas `isnull()` function to filter the array](http://pandas.pydata.org/pandas-docs/stable/missing_data.html):\n"
   ]
  },
  {
   "cell_type": "code",
   "execution_count": 54,
   "metadata": {
    "collapsed": false
   },
   "outputs": [
    {
     "data": {
      "text/html": [
       "<div>\n",
       "<table border=\"1\" class=\"dataframe\">\n",
       "  <thead>\n",
       "    <tr style=\"text-align: right;\">\n",
       "      <th></th>\n",
       "      <th>id</th>\n",
       "      <th>user_screen_name</th>\n",
       "      <th>retweet_count</th>\n",
       "      <th>text</th>\n",
       "    </tr>\n",
       "  </thead>\n",
       "  <tbody>\n",
       "    <tr>\n",
       "      <th>78936</th>\n",
       "      <td>698880570843992064</td>\n",
       "      <td>SenWarren</td>\n",
       "      <td>17232</td>\n",
       "      <td>I can’t find a clause in the Constitution that...</td>\n",
       "    </tr>\n",
       "    <tr>\n",
       "      <th>14167</th>\n",
       "      <td>719155984808177664</td>\n",
       "      <td>SenSanders</td>\n",
       "      <td>10010</td>\n",
       "      <td>Dr. King told us: You judge people on their ch...</td>\n",
       "    </tr>\n",
       "    <tr>\n",
       "      <th>14161</th>\n",
       "      <td>719512609016430596</td>\n",
       "      <td>SenSanders</td>\n",
       "      <td>9528</td>\n",
       "      <td>If college could be tuition free 50 years ago,...</td>\n",
       "    </tr>\n",
       "    <tr>\n",
       "      <th>35362</th>\n",
       "      <td>717004180829954048</td>\n",
       "      <td>repjohnlewis</td>\n",
       "      <td>9246</td>\n",
       "      <td>48 yrs ago today, my friend, my brother, Dr. M...</td>\n",
       "    </tr>\n",
       "    <tr>\n",
       "      <th>78934</th>\n",
       "      <td>698880741367635970</td>\n",
       "      <td>SenWarren</td>\n",
       "      <td>7860</td>\n",
       "      <td>Abandoning their Senate duties would also prov...</td>\n",
       "    </tr>\n",
       "  </tbody>\n",
       "</table>\n",
       "</div>"
      ],
      "text/plain": [
       "                       id user_screen_name  retweet_count  \\\n",
       "78936  698880570843992064        SenWarren          17232   \n",
       "14167  719155984808177664       SenSanders          10010   \n",
       "14161  719512609016430596       SenSanders           9528   \n",
       "35362  717004180829954048     repjohnlewis           9246   \n",
       "78934  698880741367635970        SenWarren           7860   \n",
       "\n",
       "                                                    text  \n",
       "78936  I can’t find a clause in the Constitution that...  \n",
       "14167  Dr. King told us: You judge people on their ch...  \n",
       "14161  If college could be tuition free 50 years ago,...  \n",
       "35362  48 yrs ago today, my friend, my brother, Dr. M...  \n",
       "78934  Abandoning their Senate duties would also prov...  "
      ]
     },
     "execution_count": 54,
     "metadata": {},
     "output_type": "execute_result"
    }
   ],
   "source": [
    "dfnotretweets = dftweets[dftweets.retweeted_status_id.isnull()]\n",
    "top5 = dfnotretweets.sort_values('retweet_count', ascending=False).head(5)\n",
    "top5[['id', 'user_screen_name', 'retweet_count', 'text']]"
   ]
  },
  {
   "cell_type": "markdown",
   "metadata": {},
   "source": [
    "Those seem like more well-known tweeters."
   ]
  },
  {
   "cell_type": "markdown",
   "metadata": {
    "collapsed": true
   },
   "source": [
    "# Joining data\n",
    "\n",
    "Putting together data that is *physically* separated is one of the most difficult but high return-on-investment data-wrangling skills to learn.\n",
    "\n",
    "Our data comes from two separate sources: Twitter, and people who care about tracking Congress. The latter group have done the work of identifying which congressmembers have entries in Twitter's dataset, i.e. which Congressmembers have Twitter accounts, and the identity of each account.\n",
    "\n",
    "Yet there's no direct way to analyze the two data sources together. We can find the top 5 most retweeted tweets, but we can't find that ranking by __party__ or by __chamber__, for instance, because those two attributes have meaning only in Congress dataland.\n",
    "\n",
    "So it's up to us to explicitly __join__ the data.\n",
    "\n",
    "If you've used SQL, [joins should be familiar to you](http://2015.padjo.org/tutorials/babynames-and-college-salaries/030-all-about-inner-joins/).\n",
    "\n",
    "Pandas DataFrame also has a concept of a \"join\" -- here's the [documentation on the various ways to merge dataframes](http://pandas.pydata.org/pandas-docs/stable/merging.html).\n"
   ]
  },
  {
   "cell_type": "markdown",
   "metadata": {},
   "source": [
    "## Joining legislator data with Twitter profile data\n",
    "\n",
    "Let's start with something simple by asking a simple question: which party has more Twitter followers?\n",
    "\n",
    "To answer that question, we need to join the __party__ column in `dfmembers` with each corresponding row in `dfprofiles`.\n",
    "\n",
    "At a minimum, we need two columns: `party` and `followers_count`. Then we can do a group sum to get follower count by party."
   ]
  },
  {
   "cell_type": "markdown",
   "metadata": {},
   "source": [
    "### Joining by key\n",
    "\n",
    "However, we actually need a third column -- this would be a column that both `dfmembers` and `dfprofiles` have in common, such that if a row in `dfmembers` has the same value for this common column as `dfprofiles`, then we know that those two rows should be matched together.\n",
    "\n",
    "If you've been following along, you probably saw in [WRANGLE-PROFILES.md][WRANGLE-PROFILES.md] that I went out of my way to add a `bioguide_id` field to the wrangled profiles and tweets data, so that each tweet and profile could be easily connected to the legislators data, in which the `bioguide_id` uniquely identifies a congressmember.\n",
    "\n",
    "First, let's create two mini dataframes: a frame of just `bioguide_id` and `followers_count`, and a frame of just `bioguide_id` and `party`:"
   ]
  },
  {
   "cell_type": "code",
   "execution_count": 58,
   "metadata": {
    "collapsed": true
   },
   "outputs": [],
   "source": [
    "dfa = dfprofiles[['bioguide_id', 'followers_count']]\n",
    "dfb = dfmembers[['bioguide_id', 'party']]"
   ]
  },
  {
   "cell_type": "code",
   "execution_count": 60,
   "metadata": {
    "collapsed": false
   },
   "outputs": [
    {
     "data": {
      "text/html": [
       "<div>\n",
       "<table border=\"1\" class=\"dataframe\">\n",
       "  <thead>\n",
       "    <tr style=\"text-align: right;\">\n",
       "      <th></th>\n",
       "      <th>bioguide_id</th>\n",
       "      <th>followers_count</th>\n",
       "    </tr>\n",
       "  </thead>\n",
       "  <tbody>\n",
       "    <tr>\n",
       "      <th>0</th>\n",
       "      <td>R000600</td>\n",
       "      <td>382</td>\n",
       "    </tr>\n",
       "    <tr>\n",
       "      <th>1</th>\n",
       "      <td>H001070</td>\n",
       "      <td>2255</td>\n",
       "    </tr>\n",
       "    <tr>\n",
       "      <th>2</th>\n",
       "      <td>Y000064</td>\n",
       "      <td>9578</td>\n",
       "    </tr>\n",
       "    <tr>\n",
       "      <th>3</th>\n",
       "      <td>E000295</td>\n",
       "      <td>10832</td>\n",
       "    </tr>\n",
       "    <tr>\n",
       "      <th>4</th>\n",
       "      <td>T000476</td>\n",
       "      <td>8451</td>\n",
       "    </tr>\n",
       "  </tbody>\n",
       "</table>\n",
       "</div>"
      ],
      "text/plain": [
       "  bioguide_id  followers_count\n",
       "0     R000600              382\n",
       "1     H001070             2255\n",
       "2     Y000064             9578\n",
       "3     E000295            10832\n",
       "4     T000476             8451"
      ]
     },
     "execution_count": 60,
     "metadata": {},
     "output_type": "execute_result"
    }
   ],
   "source": [
    "dfa.head()"
   ]
  },
  {
   "cell_type": "code",
   "execution_count": 61,
   "metadata": {
    "collapsed": false
   },
   "outputs": [
    {
     "data": {
      "text/html": [
       "<div>\n",
       "<table border=\"1\" class=\"dataframe\">\n",
       "  <thead>\n",
       "    <tr style=\"text-align: right;\">\n",
       "      <th></th>\n",
       "      <th>bioguide_id</th>\n",
       "      <th>party</th>\n",
       "    </tr>\n",
       "  </thead>\n",
       "  <tbody>\n",
       "    <tr>\n",
       "      <th>0</th>\n",
       "      <td>A000055</td>\n",
       "      <td>R</td>\n",
       "    </tr>\n",
       "    <tr>\n",
       "      <th>1</th>\n",
       "      <td>A000360</td>\n",
       "      <td>R</td>\n",
       "    </tr>\n",
       "    <tr>\n",
       "      <th>2</th>\n",
       "      <td>A000367</td>\n",
       "      <td>R</td>\n",
       "    </tr>\n",
       "    <tr>\n",
       "      <th>3</th>\n",
       "      <td>A000368</td>\n",
       "      <td>R</td>\n",
       "    </tr>\n",
       "    <tr>\n",
       "      <th>4</th>\n",
       "      <td>A000369</td>\n",
       "      <td>R</td>\n",
       "    </tr>\n",
       "  </tbody>\n",
       "</table>\n",
       "</div>"
      ],
      "text/plain": [
       "  bioguide_id party\n",
       "0     A000055     R\n",
       "1     A000360     R\n",
       "2     A000367     R\n",
       "3     A000368     R\n",
       "4     A000369     R"
      ]
     },
     "execution_count": 61,
     "metadata": {},
     "output_type": "execute_result"
    }
   ],
   "source": [
    "dfb.head()"
   ]
  },
  {
   "cell_type": "markdown",
   "metadata": {},
   "source": [
    "We can't just throw them together side by side, so we use the pandas.DataFrame `join()` method to tell it exactly how the two tables should be joined:"
   ]
  },
  {
   "cell_type": "code",
   "execution_count": 69,
   "metadata": {
    "collapsed": false
   },
   "outputs": [],
   "source": [
    "dfx = pd.merge(dfa, dfb, on='bioguide_id')"
   ]
  },
  {
   "cell_type": "code",
   "execution_count": 72,
   "metadata": {
    "collapsed": false
   },
   "outputs": [
    {
     "data": {
      "text/html": [
       "<div>\n",
       "<table border=\"1\" class=\"dataframe\">\n",
       "  <thead>\n",
       "    <tr style=\"text-align: right;\">\n",
       "      <th></th>\n",
       "      <th>bioguide_id</th>\n",
       "      <th>followers_count</th>\n",
       "      <th>party</th>\n",
       "    </tr>\n",
       "  </thead>\n",
       "  <tbody>\n",
       "    <tr>\n",
       "      <th>0</th>\n",
       "      <td>R000600</td>\n",
       "      <td>382</td>\n",
       "      <td>R</td>\n",
       "    </tr>\n",
       "    <tr>\n",
       "      <th>1</th>\n",
       "      <td>H001070</td>\n",
       "      <td>2255</td>\n",
       "      <td>R</td>\n",
       "    </tr>\n",
       "    <tr>\n",
       "      <th>2</th>\n",
       "      <td>Y000064</td>\n",
       "      <td>9578</td>\n",
       "      <td>R</td>\n",
       "    </tr>\n",
       "    <tr>\n",
       "      <th>3</th>\n",
       "      <td>E000295</td>\n",
       "      <td>10832</td>\n",
       "      <td>R</td>\n",
       "    </tr>\n",
       "    <tr>\n",
       "      <th>4</th>\n",
       "      <td>T000476</td>\n",
       "      <td>8451</td>\n",
       "      <td>R</td>\n",
       "    </tr>\n",
       "  </tbody>\n",
       "</table>\n",
       "</div>"
      ],
      "text/plain": [
       "  bioguide_id  followers_count party\n",
       "0     R000600              382     R\n",
       "1     H001070             2255     R\n",
       "2     Y000064             9578     R\n",
       "3     E000295            10832     R\n",
       "4     T000476             8451     R"
      ]
     },
     "execution_count": 72,
     "metadata": {},
     "output_type": "execute_result"
    }
   ],
   "source": [
    "dfx.head()"
   ]
  },
  {
   "cell_type": "markdown",
   "metadata": {},
   "source": [
    "You'll notice that the combined dataframe, `dfx`, has fewer rows than `dfmembers`:"
   ]
  },
  {
   "cell_type": "code",
   "execution_count": 73,
   "metadata": {
    "collapsed": false
   },
   "outputs": [
    {
     "data": {
      "text/plain": [
       "518"
      ]
     },
     "execution_count": 73,
     "metadata": {},
     "output_type": "execute_result"
    }
   ],
   "source": [
    "len(dfx)"
   ]
  },
  {
   "cell_type": "markdown",
   "metadata": {},
   "source": [
    "This should make sense, because not all congressmembers have Twitter accounts (and not all the people the `dfmembers` file are voting members:"
   ]
  },
  {
   "cell_type": "code",
   "execution_count": 82,
   "metadata": {
    "collapsed": false
   },
   "outputs": [
    {
     "data": {
      "text/plain": [
       "521"
      ]
     },
     "execution_count": 82,
     "metadata": {},
     "output_type": "execute_result"
    }
   ],
   "source": [
    "twits = dfmembers[dfmembers.twitter_id.notnull()]\n",
    "len(twits)"
   ]
  },
  {
   "cell_type": "markdown",
   "metadata": {},
   "source": [
    "Let's get the sum of follower counts by party:"
   ]
  },
  {
   "cell_type": "code",
   "execution_count": 78,
   "metadata": {
    "collapsed": false
   },
   "outputs": [
    {
     "data": {
      "text/html": [
       "<div>\n",
       "<table border=\"1\" class=\"dataframe\">\n",
       "  <thead>\n",
       "    <tr style=\"text-align: right;\">\n",
       "      <th></th>\n",
       "      <th>followers_count</th>\n",
       "    </tr>\n",
       "    <tr>\n",
       "      <th>party</th>\n",
       "      <th></th>\n",
       "    </tr>\n",
       "  </thead>\n",
       "  <tbody>\n",
       "    <tr>\n",
       "      <th>D</th>\n",
       "      <td>5135009</td>\n",
       "    </tr>\n",
       "    <tr>\n",
       "      <th>I</th>\n",
       "      <td>1939416</td>\n",
       "    </tr>\n",
       "    <tr>\n",
       "      <th>R</th>\n",
       "      <td>7955594</td>\n",
       "    </tr>\n",
       "  </tbody>\n",
       "</table>\n",
       "</div>"
      ],
      "text/plain": [
       "       followers_count\n",
       "party                 \n",
       "D              5135009\n",
       "I              1939416\n",
       "R              7955594"
      ]
     },
     "execution_count": 78,
     "metadata": {},
     "output_type": "execute_result"
    }
   ],
   "source": [
    "dfx.groupby('party').sum()"
   ]
  },
  {
   "cell_type": "markdown",
   "metadata": {},
   "source": [
    "Of course, there are more Republican legislators than Democrats, so that's not a huge surprise."
   ]
  },
  {
   "cell_type": "markdown",
   "metadata": {},
   "source": [
    "### Top tweets by party"
   ]
  },
  {
   "cell_type": "code",
   "execution_count": 89,
   "metadata": {
    "collapsed": true
   },
   "outputs": [],
   "source": [
    "# do the merge\n",
    "dfm = dfmembers[['party', 'bioguide_id', 'title']]\n",
    "dft = dftweets[dftweets.retweeted_status_id.isnull()] # filter out retweets\n",
    "dft = dft[['text', 'id', 'retweet_count', 'bioguide_id', 'user_screen_name']]\n",
    "dfx = pd.merge(dfm, dft, on='bioguide_id').sort_values('retweet_count', ascending=False)"
   ]
  },
  {
   "cell_type": "code",
   "execution_count": 90,
   "metadata": {
    "collapsed": false
   },
   "outputs": [
    {
     "data": {
      "text/html": [
       "<div>\n",
       "<table border=\"1\" class=\"dataframe\">\n",
       "  <thead>\n",
       "    <tr style=\"text-align: right;\">\n",
       "      <th></th>\n",
       "      <th>id</th>\n",
       "      <th>user_screen_name</th>\n",
       "      <th>retweet_count</th>\n",
       "      <th>text</th>\n",
       "    </tr>\n",
       "  </thead>\n",
       "  <tbody>\n",
       "    <tr>\n",
       "      <th>15735</th>\n",
       "      <td>706558214859591681</td>\n",
       "      <td>SenTedCruz</td>\n",
       "      <td>2006</td>\n",
       "      <td>Nancy Reagan will be remembered for her deep p...</td>\n",
       "    </tr>\n",
       "    <tr>\n",
       "      <th>15791</th>\n",
       "      <td>690579396336422912</td>\n",
       "      <td>SenTedCruz</td>\n",
       "      <td>1571</td>\n",
       "      <td>Each life is a gift from God. Without #life, t...</td>\n",
       "    </tr>\n",
       "    <tr>\n",
       "      <th>15727</th>\n",
       "      <td>712645781875003392</td>\n",
       "      <td>SenTedCruz</td>\n",
       "      <td>1198</td>\n",
       "      <td>.@POTUS, if you’re litigating against nuns, yo...</td>\n",
       "    </tr>\n",
       "    <tr>\n",
       "      <th>15745</th>\n",
       "      <td>702259162554703878</td>\n",
       "      <td>SenTedCruz</td>\n",
       "      <td>1123</td>\n",
       "      <td>The Senate Judiciary Committee will not hold h...</td>\n",
       "    </tr>\n",
       "    <tr>\n",
       "      <th>44083</th>\n",
       "      <td>710103186716168192</td>\n",
       "      <td>SenMikeLee</td>\n",
       "      <td>1017</td>\n",
       "      <td>My colleagues and I on Judiciary Committee hav...</td>\n",
       "    </tr>\n",
       "  </tbody>\n",
       "</table>\n",
       "</div>"
      ],
      "text/plain": [
       "                       id user_screen_name  retweet_count  \\\n",
       "15735  706558214859591681       SenTedCruz           2006   \n",
       "15791  690579396336422912       SenTedCruz           1571   \n",
       "15727  712645781875003392       SenTedCruz           1198   \n",
       "15745  702259162554703878       SenTedCruz           1123   \n",
       "44083  710103186716168192       SenMikeLee           1017   \n",
       "\n",
       "                                                    text  \n",
       "15735  Nancy Reagan will be remembered for her deep p...  \n",
       "15791  Each life is a gift from God. Without #life, t...  \n",
       "15727  .@POTUS, if you’re litigating against nuns, yo...  \n",
       "15745  The Senate Judiciary Committee will not hold h...  \n",
       "44083  My colleagues and I on Judiciary Committee hav...  "
      ]
     },
     "execution_count": 90,
     "metadata": {},
     "output_type": "execute_result"
    }
   ],
   "source": [
    "# republican senators\n",
    "top5 = dfx[(dfx.party == 'R') & (dfx.title == 'Sen')].head(5)\n",
    "top5[['id', 'user_screen_name', 'retweet_count', 'text']]"
   ]
  },
  {
   "cell_type": "code",
   "execution_count": 91,
   "metadata": {
    "collapsed": false
   },
   "outputs": [
    {
     "data": {
      "text/html": [
       "<div>\n",
       "<table border=\"1\" class=\"dataframe\">\n",
       "  <thead>\n",
       "    <tr style=\"text-align: right;\">\n",
       "      <th></th>\n",
       "      <th>id</th>\n",
       "      <th>user_screen_name</th>\n",
       "      <th>retweet_count</th>\n",
       "      <th>text</th>\n",
       "    </tr>\n",
       "  </thead>\n",
       "  <tbody>\n",
       "    <tr>\n",
       "      <th>6073</th>\n",
       "      <td>551058743073734656</td>\n",
       "      <td>RepJBridenstine</td>\n",
       "      <td>3799</td>\n",
       "      <td>I will not vote for John Boehner.  My statemen...</td>\n",
       "    </tr>\n",
       "    <tr>\n",
       "      <th>28353</th>\n",
       "      <td>667368356853452800</td>\n",
       "      <td>TGowdySC</td>\n",
       "      <td>3192</td>\n",
       "      <td>Pres Obama says we're afraid of widows &amp;amp; o...</td>\n",
       "    </tr>\n",
       "    <tr>\n",
       "      <th>6069</th>\n",
       "      <td>551827969933840384</td>\n",
       "      <td>RepJBridenstine</td>\n",
       "      <td>2016</td>\n",
       "      <td>I congratulate @replouiegohmert &amp;amp; @RepTedY...</td>\n",
       "    </tr>\n",
       "    <tr>\n",
       "      <th>6045</th>\n",
       "      <td>557308329878618113</td>\n",
       "      <td>RepJBridenstine</td>\n",
       "      <td>1607</td>\n",
       "      <td>I believe that warriors like Chris Kyle are so...</td>\n",
       "    </tr>\n",
       "    <tr>\n",
       "      <th>28281</th>\n",
       "      <td>717793468312121345</td>\n",
       "      <td>TGowdySC</td>\n",
       "      <td>1381</td>\n",
       "      <td>Democrats use Benghazi like it's a four-letter...</td>\n",
       "    </tr>\n",
       "  </tbody>\n",
       "</table>\n",
       "</div>"
      ],
      "text/plain": [
       "                       id user_screen_name  retweet_count  \\\n",
       "6073   551058743073734656  RepJBridenstine           3799   \n",
       "28353  667368356853452800         TGowdySC           3192   \n",
       "6069   551827969933840384  RepJBridenstine           2016   \n",
       "6045   557308329878618113  RepJBridenstine           1607   \n",
       "28281  717793468312121345         TGowdySC           1381   \n",
       "\n",
       "                                                    text  \n",
       "6073   I will not vote for John Boehner.  My statemen...  \n",
       "28353  Pres Obama says we're afraid of widows &amp; o...  \n",
       "6069   I congratulate @replouiegohmert &amp; @RepTedY...  \n",
       "6045   I believe that warriors like Chris Kyle are so...  \n",
       "28281  Democrats use Benghazi like it's a four-letter...  "
      ]
     },
     "execution_count": 91,
     "metadata": {},
     "output_type": "execute_result"
    }
   ],
   "source": [
    "# republican house\n",
    "top5 = dfx[(dfx.party == 'R') & (dfx.title == 'Rep')].head(5)\n",
    "top5[['id', 'user_screen_name', 'retweet_count', 'text']]"
   ]
  },
  {
   "cell_type": "code",
   "execution_count": 93,
   "metadata": {
    "collapsed": false
   },
   "outputs": [
    {
     "data": {
      "text/html": [
       "<div>\n",
       "<table border=\"1\" class=\"dataframe\">\n",
       "  <thead>\n",
       "    <tr style=\"text-align: right;\">\n",
       "      <th></th>\n",
       "      <th>id</th>\n",
       "      <th>user_screen_name</th>\n",
       "      <th>retweet_count</th>\n",
       "      <th>text</th>\n",
       "    </tr>\n",
       "  </thead>\n",
       "  <tbody>\n",
       "    <tr>\n",
       "      <th>78494</th>\n",
       "      <td>698880570843992064</td>\n",
       "      <td>SenWarren</td>\n",
       "      <td>17232</td>\n",
       "      <td>I can’t find a clause in the Constitution that...</td>\n",
       "    </tr>\n",
       "    <tr>\n",
       "      <th>78492</th>\n",
       "      <td>698880741367635970</td>\n",
       "      <td>SenWarren</td>\n",
       "      <td>7860</td>\n",
       "      <td>Abandoning their Senate duties would also prov...</td>\n",
       "    </tr>\n",
       "    <tr>\n",
       "      <th>78493</th>\n",
       "      <td>698880648614846464</td>\n",
       "      <td>SenWarren</td>\n",
       "      <td>4942</td>\n",
       "      <td>The Senate GOP took an oath just like Dems did...</td>\n",
       "    </tr>\n",
       "    <tr>\n",
       "      <th>78496</th>\n",
       "      <td>698880441638518785</td>\n",
       "      <td>SenWarren</td>\n",
       "      <td>4615</td>\n",
       "      <td>.@SenateMajLdr is right that Americans should ...</td>\n",
       "    </tr>\n",
       "    <tr>\n",
       "      <th>78510</th>\n",
       "      <td>695326631100080128</td>\n",
       "      <td>SenWarren</td>\n",
       "      <td>4555</td>\n",
       "      <td>Every single House Republican who came to work...</td>\n",
       "    </tr>\n",
       "  </tbody>\n",
       "</table>\n",
       "</div>"
      ],
      "text/plain": [
       "                       id user_screen_name  retweet_count  \\\n",
       "78494  698880570843992064        SenWarren          17232   \n",
       "78492  698880741367635970        SenWarren           7860   \n",
       "78493  698880648614846464        SenWarren           4942   \n",
       "78496  698880441638518785        SenWarren           4615   \n",
       "78510  695326631100080128        SenWarren           4555   \n",
       "\n",
       "                                                    text  \n",
       "78494  I can’t find a clause in the Constitution that...  \n",
       "78492  Abandoning their Senate duties would also prov...  \n",
       "78493  The Senate GOP took an oath just like Dems did...  \n",
       "78496  .@SenateMajLdr is right that Americans should ...  \n",
       "78510  Every single House Republican who came to work...  "
      ]
     },
     "execution_count": 93,
     "metadata": {},
     "output_type": "execute_result"
    }
   ],
   "source": [
    "# democrat senate\n",
    "top5 = dfx[(dfx.party == 'D') & (dfx.title == 'Sen')].head(5)\n",
    "top5[['id', 'user_screen_name', 'retweet_count', 'text']]"
   ]
  },
  {
   "cell_type": "code",
   "execution_count": 94,
   "metadata": {
    "collapsed": false
   },
   "outputs": [
    {
     "data": {
      "text/html": [
       "<div>\n",
       "<table border=\"1\" class=\"dataframe\">\n",
       "  <thead>\n",
       "    <tr style=\"text-align: right;\">\n",
       "      <th></th>\n",
       "      <th>id</th>\n",
       "      <th>user_screen_name</th>\n",
       "      <th>retweet_count</th>\n",
       "      <th>text</th>\n",
       "    </tr>\n",
       "  </thead>\n",
       "  <tbody>\n",
       "    <tr>\n",
       "      <th>40852</th>\n",
       "      <td>717004180829954048</td>\n",
       "      <td>repjohnlewis</td>\n",
       "      <td>9246</td>\n",
       "      <td>48 yrs ago today, my friend, my brother, Dr. M...</td>\n",
       "    </tr>\n",
       "    <tr>\n",
       "      <th>40936</th>\n",
       "      <td>646362466583191552</td>\n",
       "      <td>repjohnlewis</td>\n",
       "      <td>4397</td>\n",
       "      <td>I was beaten, my skull was fractured, &amp;amp; I ...</td>\n",
       "    </tr>\n",
       "    <tr>\n",
       "      <th>72496</th>\n",
       "      <td>667097811004039169</td>\n",
       "      <td>RepMarkTakano</td>\n",
       "      <td>4043</td>\n",
       "      <td>Can’t believe this needs clarifying, but the i...</td>\n",
       "    </tr>\n",
       "    <tr>\n",
       "      <th>40871</th>\n",
       "      <td>706927590687121408</td>\n",
       "      <td>repjohnlewis</td>\n",
       "      <td>3478</td>\n",
       "      <td>When people tell me nothing has changed, I say...</td>\n",
       "    </tr>\n",
       "    <tr>\n",
       "      <th>40900</th>\n",
       "      <td>689092607159459842</td>\n",
       "      <td>repjohnlewis</td>\n",
       "      <td>2743</td>\n",
       "      <td>Dr. Martin Luther King, Jr. was my friend, my ...</td>\n",
       "    </tr>\n",
       "  </tbody>\n",
       "</table>\n",
       "</div>"
      ],
      "text/plain": [
       "                       id user_screen_name  retweet_count  \\\n",
       "40852  717004180829954048     repjohnlewis           9246   \n",
       "40936  646362466583191552     repjohnlewis           4397   \n",
       "72496  667097811004039169    RepMarkTakano           4043   \n",
       "40871  706927590687121408     repjohnlewis           3478   \n",
       "40900  689092607159459842     repjohnlewis           2743   \n",
       "\n",
       "                                                    text  \n",
       "40852  48 yrs ago today, my friend, my brother, Dr. M...  \n",
       "40936  I was beaten, my skull was fractured, &amp; I ...  \n",
       "72496  Can’t believe this needs clarifying, but the i...  \n",
       "40871  When people tell me nothing has changed, I say...  \n",
       "40900  Dr. Martin Luther King, Jr. was my friend, my ...  "
      ]
     },
     "execution_count": 94,
     "metadata": {},
     "output_type": "execute_result"
    }
   ],
   "source": [
    "# democrat house\n",
    "top5 = dfx[(dfx.party == 'D') & (dfx.title == 'Rep')].head(5)\n",
    "top5[['id', 'user_screen_name', 'retweet_count', 'text']]"
   ]
  },
  {
   "cell_type": "code",
   "execution_count": null,
   "metadata": {
    "collapsed": true
   },
   "outputs": [],
   "source": []
  }
 ],
 "metadata": {
  "kernelspec": {
   "display_name": "Python 3",
   "language": "python",
   "name": "python3"
  },
  "language_info": {
   "codemirror_mode": {
    "name": "ipython",
    "version": 3
   },
   "file_extension": ".py",
   "mimetype": "text/x-python",
   "name": "python",
   "nbconvert_exporter": "python",
   "pygments_lexer": "ipython3",
   "version": "3.5.1"
  }
 },
 "nbformat": 4,
 "nbformat_minor": 0
}
